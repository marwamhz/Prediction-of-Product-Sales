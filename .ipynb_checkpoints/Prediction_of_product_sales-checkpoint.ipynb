{
  "nbformat": 4,
  "nbformat_minor": 0,
  "metadata": {
    "colab": {
      "provenance": [],
      "authorship_tag": "ABX9TyPHsrgJ0qCjijZOeNXEdd0V"
    },
    "kernelspec": {
      "name": "python3",
      "display_name": "Python 3"
    },
    "language_info": {
      "name": "python"
    }
  },
  "cells": [
    {
      "cell_type": "markdown",
      "source": [
        "#Prediction of product sales\n",
        "- Author : Marwa Mehrez"
      ],
      "metadata": {
        "id": "uT8O-HTsA1kr"
      }
    },
    {
      "cell_type": "markdown",
      "source": [
        "##Project Overview\n"
      ],
      "metadata": {
        "id": "97wE75O7BEj_"
      }
    },
    {
      "cell_type": "markdown",
      "source": [
        "##Load and Inspect Data"
      ],
      "metadata": {
        "id": "QLq4vy_UBj7k"
      }
    },
    {
      "cell_type": "markdown",
      "source": [
        "##Clean Data"
      ],
      "metadata": {
        "id": "o8l-vEt8BvoC"
      }
    },
    {
      "cell_type": "markdown",
      "source": [
        "##Exploratory Data Analysis"
      ],
      "metadata": {
        "id": "kLXSX7bJB5U5"
      }
    },
    {
      "cell_type": "markdown",
      "source": [
        "##Feature Inspection"
      ],
      "metadata": {
        "id": "ukHHlrbXCBo_"
      }
    }
  ]
}